{
  "nbformat": 4,
  "nbformat_minor": 0,
  "metadata": {
    "colab": {
      "provenance": [],
      "authorship_tag": "ABX9TyMI2FygFtyIlFEA2arC/1A4",
      "include_colab_link": true
    },
    "kernelspec": {
      "name": "python3",
      "display_name": "Python 3"
    },
    "language_info": {
      "name": "python"
    }
  },
  "cells": [
    {
      "cell_type": "markdown",
      "metadata": {
        "id": "view-in-github",
        "colab_type": "text"
      },
      "source": [
        "<a href=\"https://colab.research.google.com/github/hanavaniaa/StudyCase1/blob/main/StudyCase1_Kelompok_A.ipynb\" target=\"_parent\"><img src=\"https://colab.research.google.com/assets/colab-badge.svg\" alt=\"Open In Colab\"/></a>"
      ]
    },
    {
      "cell_type": "code",
      "execution_count": 1,
      "metadata": {
        "id": "Wv4XAh0F_5z6"
      },
      "outputs": [],
      "source": [
        "# data visualisation and manipulation\n",
        "import numpy as np\n",
        "import pandas as pd\n",
        "import matplotlib.pyplot as plt\n",
        "from matplotlib import style\n",
        "import seaborn as sns"
      ]
    },
    {
      "cell_type": "code",
      "source": [
        "#import the necessary modelling algos.\n",
        "from sklearn.linear_model import LogisticRegression\n",
        "from sklearn.svm import LinearSVC\n",
        "from sklearn.svm import SVC\n",
        "from sklearn import svm\n",
        "from sklearn import model_selection\n",
        "from sklearn.neighbors import KNeighborsClassifier\n",
        "from sklearn.ensemble import RandomForestClassifier\n",
        "from sklearn.tree import DecisionTreeClassifier\n",
        "from sklearn.ensemble import GradientBoostingClassifier\n",
        "from sklearn.naive_bayes import GaussianNB\n",
        "\n",
        "#model selection\n",
        "from sklearn.model_selection import train_test_split\n",
        "from sklearn.model_selection import KFold\n",
        "from sklearn.metrics import accuracy_score,precision_score,recall_score,confusion_matrix,roc_curve,roc_auc_score\n",
        "from sklearn.model_selection import GridSearchCV\n",
        "\n",
        "\n",
        "#preprocess.\n",
        "from sklearn.preprocessing import MinMaxScaler,StandardScaler,LabelEncoder,OneHotEncoder\n",
        "\n",
        "import random as rn"
      ],
      "metadata": {
        "id": "eQJOs8m4AeVt"
      },
      "execution_count": 3,
      "outputs": []
    },
    {
      "cell_type": "code",
      "source": [
        "#Import Data\n",
        "try: # Running Locally, yakinkan \"file_\" berada di folder \"data\"\n",
        "    dfJ = pd.read_csv(\"data/jakarta.csv\", low_memory = False, encoding='utf8')\n",
        "    dfD = pd.read_csv(\"data/depok.csv\", low_memory = False, encoding='utf8')\n",
        "    dfB = pd.read_csv(\"data/bogor.csv\", low_memory = False, encoding='utf8')\n",
        "    dfT = pd.read_csv(\"data/tangerang.csv\", low_memory = False, encoding='utf8')\n",
        "    dfX = pd.read_csv(\"data/bekasi.csv\", low_memory = False, encoding='utf8')    \n",
        "except: # Running in Google Colab\n",
        "    !mkdir data\n",
        "    !wget -P data/ https://raw.githubusercontent.com/taufiksutanto/ADM-Case-01-EDA/master/data/jakarta.csv\n",
        "    !wget -P data/ https://raw.githubusercontent.com/taufiksutanto/ADM-Case-01-EDA/master/data/depok.csv\n",
        "    !wget -P data/ https://raw.githubusercontent.com/taufiksutanto/ADM-Case-01-EDA/master/data/bogor.csv\n",
        "    !wget -P data/ https://raw.githubusercontent.com/taufiksutanto/ADM-Case-01-EDA/master/data/tangerang.csv\n",
        "    !wget -P data/ https://raw.githubusercontent.com/taufiksutanto/ADM-Case-01-EDA/master/data/bekasi.csv\n",
        "    dfJ = pd.read_csv(\"data/jakarta.csv\", low_memory = False, encoding='utf8')\n",
        "    dfD = pd.read_csv(\"data/depok.csv\", low_memory = False, encoding='utf8')\n",
        "    dfB = pd.read_csv(\"data/bogor.csv\", low_memory = False, encoding='utf8')\n",
        "    dfT = pd.read_csv(\"data/tangerang.csv\", low_memory = False, encoding='utf8')\n",
        "    dfX = pd.read_csv(\"data/bekasi.csv\", low_memory = False, encoding='utf8')\n",
        "    \n",
        "dfJ.shape, dfD.shape, dfB.shape, dfT.shape, dfX.shape"
      ],
      "metadata": {
        "id": "vs_6OoeSAulB",
        "outputId": "7ed50c7d-cf5b-46f3-e303-2889540aad1c",
        "colab": {
          "base_uri": "https://localhost:8080/"
        }
      },
      "execution_count": 4,
      "outputs": [
        {
          "output_type": "stream",
          "name": "stdout",
          "text": [
            "--2022-09-23 06:24:27--  https://raw.githubusercontent.com/taufiksutanto/ADM-Case-01-EDA/master/data/jakarta.csv\n",
            "Resolving raw.githubusercontent.com (raw.githubusercontent.com)... 185.199.111.133, 185.199.109.133, 185.199.110.133, ...\n",
            "Connecting to raw.githubusercontent.com (raw.githubusercontent.com)|185.199.111.133|:443... connected.\n",
            "HTTP request sent, awaiting response... 200 OK\n",
            "Length: 63832 (62K) [text/plain]\n",
            "Saving to: ‘data/jakarta.csv’\n",
            "\n",
            "\rjakarta.csv           0%[                    ]       0  --.-KB/s               \rjakarta.csv         100%[===================>]  62.34K  --.-KB/s    in 0.03s   \n",
            "\n",
            "2022-09-23 06:24:27 (2.14 MB/s) - ‘data/jakarta.csv’ saved [63832/63832]\n",
            "\n",
            "--2022-09-23 06:24:27--  https://raw.githubusercontent.com/taufiksutanto/ADM-Case-01-EDA/master/data/depok.csv\n",
            "Resolving raw.githubusercontent.com (raw.githubusercontent.com)... 185.199.110.133, 185.199.108.133, 185.199.111.133, ...\n",
            "Connecting to raw.githubusercontent.com (raw.githubusercontent.com)|185.199.110.133|:443... connected.\n",
            "HTTP request sent, awaiting response... 200 OK\n",
            "Length: 43191 (42K) [text/plain]\n",
            "Saving to: ‘data/depok.csv’\n",
            "\n",
            "depok.csv           100%[===================>]  42.18K  --.-KB/s    in 0.02s   \n",
            "\n",
            "2022-09-23 06:24:27 (1.69 MB/s) - ‘data/depok.csv’ saved [43191/43191]\n",
            "\n",
            "--2022-09-23 06:24:27--  https://raw.githubusercontent.com/taufiksutanto/ADM-Case-01-EDA/master/data/bogor.csv\n",
            "Resolving raw.githubusercontent.com (raw.githubusercontent.com)... 185.199.108.133, 185.199.109.133, 185.199.110.133, ...\n",
            "Connecting to raw.githubusercontent.com (raw.githubusercontent.com)|185.199.108.133|:443... connected.\n",
            "HTTP request sent, awaiting response... 200 OK\n",
            "Length: 68006 (66K) [text/plain]\n",
            "Saving to: ‘data/bogor.csv’\n",
            "\n",
            "bogor.csv           100%[===================>]  66.41K  --.-KB/s    in 0.03s   \n",
            "\n",
            "2022-09-23 06:24:28 (2.20 MB/s) - ‘data/bogor.csv’ saved [68006/68006]\n",
            "\n",
            "--2022-09-23 06:24:28--  https://raw.githubusercontent.com/taufiksutanto/ADM-Case-01-EDA/master/data/tangerang.csv\n",
            "Resolving raw.githubusercontent.com (raw.githubusercontent.com)... 185.199.110.133, 185.199.111.133, 185.199.108.133, ...\n",
            "Connecting to raw.githubusercontent.com (raw.githubusercontent.com)|185.199.110.133|:443... connected.\n",
            "HTTP request sent, awaiting response... 200 OK\n",
            "Length: 46485 (45K) [text/plain]\n",
            "Saving to: ‘data/tangerang.csv’\n",
            "\n",
            "tangerang.csv       100%[===================>]  45.40K  --.-KB/s    in 0.03s   \n",
            "\n",
            "2022-09-23 06:24:28 (1.74 MB/s) - ‘data/tangerang.csv’ saved [46485/46485]\n",
            "\n",
            "--2022-09-23 06:24:28--  https://raw.githubusercontent.com/taufiksutanto/ADM-Case-01-EDA/master/data/bekasi.csv\n",
            "Resolving raw.githubusercontent.com (raw.githubusercontent.com)... 185.199.111.133, 185.199.109.133, 185.199.110.133, ...\n",
            "Connecting to raw.githubusercontent.com (raw.githubusercontent.com)|185.199.111.133|:443... connected.\n",
            "HTTP request sent, awaiting response... 200 OK\n",
            "Length: 71038 (69K) [text/plain]\n",
            "Saving to: ‘data/bekasi.csv’\n",
            "\n",
            "bekasi.csv          100%[===================>]  69.37K  --.-KB/s    in 0.03s   \n",
            "\n",
            "2022-09-23 06:24:28 (2.24 MB/s) - ‘data/bekasi.csv’ saved [71038/71038]\n",
            "\n"
          ]
        },
        {
          "output_type": "execute_result",
          "data": {
            "text/plain": [
              "((1024, 26), (998, 26), (999, 26), (128, 26), (992, 26))"
            ]
          },
          "metadata": {},
          "execution_count": 4
        }
      ]
    },
    {
      "cell_type": "code",
      "source": [
        "#Data Jakarta\n",
        "dfJ.info()"
      ],
      "metadata": {
        "id": "VjnFiABEBTq7",
        "outputId": "38412fc2-d7a9-4efc-beab-017f8234e934",
        "colab": {
          "base_uri": "https://localhost:8080/"
        }
      },
      "execution_count": 7,
      "outputs": [
        {
          "output_type": "stream",
          "name": "stdout",
          "text": [
            "<class 'pandas.core.frame.DataFrame'>\n",
            "RangeIndex: 1024 entries, 0 to 1023\n",
            "Data columns (total 26 columns):\n",
            " #   Column       Non-Null Count  Dtype  \n",
            "---  ------       --------------  -----  \n",
            " 0   created_at   121 non-null    object \n",
            " 1   LT           121 non-null    float64\n",
            " 2   LB           121 non-null    float64\n",
            " 3   KT           121 non-null    float64\n",
            " 4   KM           121 non-null    float64\n",
            " 5   garasi       44 non-null     float64\n",
            " 6   carport      90 non-null     float64\n",
            " 7   lokasi       121 non-null    object \n",
            " 8   sertifikat   119 non-null    object \n",
            " 9   listrik      120 non-null    float64\n",
            " 10  hadap        36 non-null     object \n",
            " 11  harga        121 non-null    float64\n",
            " 12  URL          121 non-null    object \n",
            " 13  deskripsi    112 non-null    object \n",
            " 14  Unnamed: 14  0 non-null      float64\n",
            " 15  Unnamed: 15  0 non-null      float64\n",
            " 16  Unnamed: 16  0 non-null      float64\n",
            " 17  Unnamed: 17  0 non-null      float64\n",
            " 18  Unnamed: 18  0 non-null      float64\n",
            " 19  Unnamed: 19  0 non-null      float64\n",
            " 20  Unnamed: 20  0 non-null      float64\n",
            " 21  Unnamed: 21  0 non-null      float64\n",
            " 22  Unnamed: 22  0 non-null      float64\n",
            " 23  Unnamed: 23  0 non-null      float64\n",
            " 24  Unnamed: 24  0 non-null      float64\n",
            " 25  Unnamed: 25  0 non-null      float64\n",
            "dtypes: float64(20), object(6)\n",
            "memory usage: 208.1+ KB\n"
          ]
        }
      ]
    },
    {
      "cell_type": "code",
      "source": [],
      "metadata": {
        "id": "jM_NzFWkBkGx"
      },
      "execution_count": null,
      "outputs": []
    }
  ]
}
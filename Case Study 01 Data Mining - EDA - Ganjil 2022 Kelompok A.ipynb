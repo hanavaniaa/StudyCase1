{
 "cells": [
  {
   "cell_type": "markdown",
   "id": "4380d15f",
   "metadata": {},
   "source": [
    "# Study Case 01 - Data Mining dan Business Intelligence : EDA Pada Data Property\n",
    "\n",
    "**Kelompok A :**\n",
    "1. M Dzaky Jaya (1806193640)\n",
    "2. Michael Mario Bramanthyo Adhi (1906299534)\n",
    "3. Rahmi Radhia (1906375796)\n",
    "4. Rosyda Hanavania (1906299566)"
   ]
  },
  {
   "cell_type": "markdown",
   "id": "a1d0c0a2",
   "metadata": {},
   "source": [
    "## Kasus:\n",
    "- Anda adalah seorang Data Analyst yang bekerja di PT Ray Pink Property Indonesia (RPPI).\n",
    "- RPPI adalah perusahaan property yang berdiri sejak 11 tahun yang lalu.\n",
    "- RPPI memliki kantor cabang di 7 propinsi di Indonesia dan jumlahnya terus bertambah.\n",
    "- Valuasi RPPI tahun ini mencapai Rp 7 Trilyun, meningkat 7% dari tahun sebelumnya.\n",
    "- Bidang usaha RPPI adalah investasi dan jual-beli property secara umum, termasuk bekerja sama dengan developer perumahan.\n",
    "- Data Engineer (DE)/Database Administrator (DBA) RPPI berhasil mengumpulkan data rumah-rumah yang dijual di beberapa kota di Indonesia.\n",
    "- Sebagai Data Analyst anda akan hadir dan melakukan presentasi pada rapat direksi untuk memberikan insight dari data ke upper management (C-Level, senior managers, dan komisaris perusahaan).\n",
    "- Di studi kasus ini anda mempersiapkan \"bahan presentasi\" dengan cara melakukan EDA pada data yang diterima dari DE/DBA."
   ]
  },
  {
   "cell_type": "markdown",
   "id": "0d0ffdd7",
   "metadata": {},
   "source": [
    "## Petunjuk\n",
    "Di studi kasus pertama, anda mendapat bantuan keterangan dari manajemen. Setelah berdiskusi over lunch dengan beberapa manager senior, anda mendengar bahwa mereka ingin mengetahui:\n",
    "\n",
    "1. Kualitas data yang dimiliki perusahaan.\n",
    "2. Apakah ada saran perbaikan data ke DE/DBA perusahaan agar RPPI menjadi data driven company yang unggul.\n",
    "3. Dari data yang ada, apakah ada kecenderungan rumah disuatu kota lebih mahal/murah dibandingkan kota lain?\n",
    "4. Dari data yang ada, apakah bisa dibuat rekomendasi sebaiknya RPPI membuat kantor cabang berikutnya di kota mana? Mengapa? (Asumsikan RPPI belum memiliki cabang di kota-kota yang disebutkan di data).\n",
    "5. Rumah dengan karakteristik seperti apa yang paling banyak dijual?\n",
    "6. Jika RPPI ingin melakukan investasi (max) Rp. 25 Milyar minggu besok, apakah dari data anda dapat memberikan rekomendasi rumah mana saja yang akan berpotensi menghasilkan keuntungan bagi perusahaan?\n",
    "7. Dan yang terpenting, informasi berharga apa lagi yang bisa anda dapatkan dari data?"
   ]
  },
  {
   "cell_type": "markdown",
   "id": "adb577a5",
   "metadata": {},
   "source": [
    "## Catatan\n",
    "- Anda diperbolehkan melakukan augmentasi data (menambah data eksternal).\n",
    "- Yakinkan menuliskan asumsi anda atas kesimpulan dan rekomendasi yang diberikan ke perusahaan.\n",
    "- Yakinkan kesimpulan dan rekomendasi ditujukan ke perusahaan (bukan dosen mata kuliah).\n",
    "- Anda boleh menggunakan software visualisasi apapun, misal excel, Ms Word, Photoshop, dsb.\n",
    "- Yakinkan file images dapat dibuka (nampak) saat ipynb di Jupyter notebook anda dibuka di Google Colab.\n",
    "\t\t- Tips: hati-hati dalam melakukan penamaan file, Google colab case sensitive.\n",
    "- Interpretasi diberikan menggunakan cell markdown tepat dibawah output code yang relevan diatasnya.\n",
    "- Anda tidak diperkenankan bertanya pertanyaan yang:\n",
    "        - Merupakan jawaban atau menjurus ke jawaban studi kasus.\n",
    "        - Debugging - code error (anda diharapkan melakukan code troubleshooting sendiri via mesin pencari)\n",
    "- Pada studi kasus ini anda hanya diperkenankan untuk melakukan EDA (bukan modeling seperti prediksi/forecasting)"
   ]
  },
  {
   "cell_type": "markdown",
   "id": "59530e80",
   "metadata": {},
   "source": [
    "## Komponen Penilaian:\n",
    "- Code tidak diubah sejak deadline studi kasus.\n",
    "- Code dapat di \"Run-All\" di Google Colab oleh dosen tanpa error.\n",
    "- Pemilihan preprocessing dan visualisasi yang tepat\n",
    "- Interpretasi dan rekomendasi dengan narasi dan kualitas yang baik, serta berdasarkan atas (pengolahan) data.\n",
    "- Kreativitas dan inovasi pengolahan data dan penyajian visualisasi."
   ]
  },
  {
   "cell_type": "markdown",
   "id": "a871b9d4",
   "metadata": {},
   "source": [
    "## 1. Preparation"
   ]
  },
  {
   "cell_type": "markdown",
   "id": "ed7ab155",
   "metadata": {},
   "source": [
    "### 1.1 Libraries and Utilities"
   ]
  },
  {
   "cell_type": "code",
   "execution_count": 1,
   "id": "d4eccaa6",
   "metadata": {},
   "outputs": [],
   "source": [
    "#Data Manipulatiom\n",
    "import pandas as pd\n",
    "import numpy as np\n",
    "import sklearn\n",
    "import scipy\n",
    "\n",
    "#Visualization\n",
    "import seaborn as sns           \n",
    "import matplotlib.pyplot as plt \n",
    "%matplotlib inline \n",
    "sns.set(color_codes=True)\n",
    "\n",
    "#Modelling\n",
    "from imblearn import under_sampling, over_sampling\n",
    "from sklearn.model_selection import train_test_split\n",
    "from sklearn import preprocessing\n",
    "from sklearn.metrics import accuracy_score, classification_report, confusion_matrix\n",
    "from matplotlib import pyplot as plt\n",
    "from sklearn.preprocessing import StandardScaler \n",
    "from sklearn.linear_model import LogisticRegression\n",
    "from sklearn.ensemble import RandomForestClassifier\n",
    "from sklearn.tree import DecisionTreeClassifier\n",
    "from sklearn.neighbors import KNeighborsClassifier\n",
    "from sklearn.metrics import accuracy_score \n",
    "from sklearn.metrics import roc_auc_score\n",
    "np.random.seed(1234)\n",
    "from catboost import CatBoostClassifier\n",
    "from lightgbm import LGBMClassifier\n",
    "from sklearn.model_selection import cross_val_score\n",
    "from sklearn.pipeline import Pipeline\n",
    "from sklearn.feature_selection import RFE\n",
    "from sklearn.model_selection import RepeatedStratifiedKFold"
   ]
  },
  {
   "cell_type": "markdown",
   "id": "19acf464",
   "metadata": {},
   "source": [
    "### 1.2 Data Loading"
   ]
  },
  {
   "cell_type": "markdown",
   "id": "29f65d87",
   "metadata": {},
   "source": [
    "### Import Data"
   ]
  },
  {
   "cell_type": "code",
   "execution_count": 2,
   "id": "5448aa7e",
   "metadata": {},
   "outputs": [
    {
     "data": {
      "text/plain": [
       "((1024, 26), (998, 26), (999, 26), (128, 26), (992, 26))"
      ]
     },
     "execution_count": 2,
     "metadata": {},
     "output_type": "execute_result"
    }
   ],
   "source": [
    "# Loading Data:\n",
    "import pandas as pd\n",
    "\n",
    "try: # Running Locally, yakinkan \"file_\" berada di folder \"data\"\n",
    "    dfJ = pd.read_csv(r\"C:\\Users\\USER\\SEMESTER 7\\Data Mining\\Study Case 01 - EDA Pada Data Property\\jakarta.csv\", low_memory = False, encoding='utf8')\n",
    "    dfD = pd.read_csv(r\"C:\\Users\\USER\\SEMESTER 7\\Data Mining\\Study Case 01 - EDA Pada Data Property\\depok.csv\", low_memory = False, encoding='utf8')\n",
    "    dfB = pd.read_csv(r\"C:\\Users\\USER\\SEMESTER 7\\Data Mining\\Study Case 01 - EDA Pada Data Property\\bogor.csv\", low_memory = False, encoding='utf8')\n",
    "    dfT = pd.read_csv(r\"C:\\Users\\USER\\SEMESTER 7\\Data Mining\\Study Case 01 - EDA Pada Data Property\\tangerang.csv\", low_memory = False, encoding='utf8')\n",
    "    dfX = pd.read_csv(r\"C:\\Users\\USER\\SEMESTER 7\\Data Mining\\Study Case 01 - EDA Pada Data Property\\bekasi.csv\", low_memory = False, encoding='utf8')    \n",
    "except: # Running in Google Colab\n",
    "    !mkdir data\n",
    "    !wget -P data/ https://raw.githubusercontent.com/taufiksutanto/ADM-Case-01-EDA/master/data/jakarta.csv\n",
    "    !wget -P data/ https://raw.githubusercontent.com/taufiksutanto/ADM-Case-01-EDA/master/data/depok.csv\n",
    "    !wget -P data/ https://raw.githubusercontent.com/taufiksutanto/ADM-Case-01-EDA/master/data/bogor.csv\n",
    "    !wget -P data/ https://raw.githubusercontent.com/taufiksutanto/ADM-Case-01-EDA/master/data/tangerang.csv\n",
    "    !wget -P data/ https://raw.githubusercontent.com/taufiksutanto/ADM-Case-01-EDA/master/data/bekasi.csv\n",
    "    dfJ = pd.read_csv(\"data/jakarta.csv\", low_memory = False, encoding='utf8')\n",
    "    dfD = pd.read_csv(\"data/depok.csv\", low_memory = False, encoding='utf8')\n",
    "    dfB = pd.read_csv(\"data/bogor.csv\", low_memory = False, encoding='utf8')\n",
    "    dfT = pd.read_csv(\"data/tangerang.csv\", low_memory = False, encoding='utf8')\n",
    "    dfX = pd.read_csv(\"data/bekasi.csv\", low_memory = False, encoding='utf8')\n",
    "    \n",
    "dfJ.shape, dfD.shape, dfB.shape, dfT.shape, dfX.shape"
   ]
  },
  {
   "cell_type": "markdown",
   "id": "0974fd61",
   "metadata": {},
   "source": [
    "### 1.3 Data Understanding"
   ]
  },
  {
   "cell_type": "markdown",
   "id": "dca44704",
   "metadata": {},
   "source": [
    "Keterangan Varabel:\n",
    "* Created_at: Tanggal dimana iklan rumah dibuat\n",
    "* LT\t\t: Luas Tanah properti yang ditawarkan\n",
    "* LB\t\t: Luas Bangunan properti yang ditawarkan\n",
    "* KT\t\t: Jumlah Kamar Tidur properti yang ditawarkan\n",
    "* KM\t\t: Jumlah Kamar Mandi properti yang ditawarkan\n",
    "* Garasi\t: Jumlah Kapasitas Garasi di properti yang ditawarkan\n",
    "* Carport\t: Jumlah kapasitas Carport di properti yang ditawarkan\n",
    "* Lokasi\t: Detail lokasi properti yang ditawarkan\n",
    "* Sertifikat: Jenis sertifikat properti yang ditawarkan\n",
    "* Listrik\t: Daya listrik dari properti yang ditawarkan\n",
    "* Hadap\t\t: Keterangan property yang ditawarkan menghadap ke arah mana\n",
    "* Harga \t: Harga property yang ditawarkan dalam Rupiah\n",
    "* URL\t\t: Alamat tautan (link) property yang ditawarkan.\n",
    "* Deskripsi\t: Deskripsi iklan property yang ditawarkan. "
   ]
  },
  {
   "cell_type": "markdown",
   "id": "620e0096",
   "metadata": {},
   "source": [
    "### Menambahkan kolom \"Kota\""
   ]
  },
  {
   "cell_type": "code",
   "execution_count": 3,
   "id": "b2be976e",
   "metadata": {},
   "outputs": [],
   "source": [
    "dfJ = dfJ.assign(Kota = \"Jakarta\")\n",
    "dfD = dfJ.assign(Kota = \"Depok\")\n",
    "dfB = dfJ.assign(Kota = \"Bogor\")\n",
    "dfT = dfJ.assign(Kota = \"Tangerang\")\n",
    "dfX = dfJ.assign(Kota = \"Bekasi\")"
   ]
  },
  {
   "cell_type": "markdown",
   "id": "deb1366f",
   "metadata": {},
   "source": [
    "### Menggabungkan data kelima kota"
   ]
  },
  {
   "cell_type": "code",
   "execution_count": 4,
   "id": "e2323328",
   "metadata": {},
   "outputs": [
    {
     "data": {
      "text/html": [
       "<div>\n",
       "<style scoped>\n",
       "    .dataframe tbody tr th:only-of-type {\n",
       "        vertical-align: middle;\n",
       "    }\n",
       "\n",
       "    .dataframe tbody tr th {\n",
       "        vertical-align: top;\n",
       "    }\n",
       "\n",
       "    .dataframe thead th {\n",
       "        text-align: right;\n",
       "    }\n",
       "</style>\n",
       "<table border=\"1\" class=\"dataframe\">\n",
       "  <thead>\n",
       "    <tr style=\"text-align: right;\">\n",
       "      <th></th>\n",
       "      <th>created_at</th>\n",
       "      <th>LT</th>\n",
       "      <th>LB</th>\n",
       "      <th>KT</th>\n",
       "      <th>KM</th>\n",
       "      <th>garasi</th>\n",
       "      <th>carport</th>\n",
       "      <th>lokasi</th>\n",
       "      <th>sertifikat</th>\n",
       "      <th>listrik</th>\n",
       "      <th>...</th>\n",
       "      <th>Unnamed: 17</th>\n",
       "      <th>Unnamed: 18</th>\n",
       "      <th>Unnamed: 19</th>\n",
       "      <th>Unnamed: 20</th>\n",
       "      <th>Unnamed: 21</th>\n",
       "      <th>Unnamed: 22</th>\n",
       "      <th>Unnamed: 23</th>\n",
       "      <th>Unnamed: 24</th>\n",
       "      <th>Unnamed: 25</th>\n",
       "      <th>Kota</th>\n",
       "    </tr>\n",
       "  </thead>\n",
       "  <tbody>\n",
       "    <tr>\n",
       "      <th>0</th>\n",
       "      <td>06-12-2021</td>\n",
       "      <td>202.0</td>\n",
       "      <td>198.0</td>\n",
       "      <td>8.0</td>\n",
       "      <td>3.0</td>\n",
       "      <td>NaN</td>\n",
       "      <td>NaN</td>\n",
       "      <td>Jakarta Pusat</td>\n",
       "      <td>SHM</td>\n",
       "      <td>2200.0</td>\n",
       "      <td>...</td>\n",
       "      <td>NaN</td>\n",
       "      <td>NaN</td>\n",
       "      <td>NaN</td>\n",
       "      <td>NaN</td>\n",
       "      <td>NaN</td>\n",
       "      <td>NaN</td>\n",
       "      <td>NaN</td>\n",
       "      <td>NaN</td>\n",
       "      <td>NaN</td>\n",
       "      <td>Jakarta</td>\n",
       "    </tr>\n",
       "    <tr>\n",
       "      <th>1</th>\n",
       "      <td>02-12-2021</td>\n",
       "      <td>30.0</td>\n",
       "      <td>55.0</td>\n",
       "      <td>2.0</td>\n",
       "      <td>1.0</td>\n",
       "      <td>NaN</td>\n",
       "      <td>1.0</td>\n",
       "      <td>Jakarta Pusat</td>\n",
       "      <td>SHM</td>\n",
       "      <td>2200.0</td>\n",
       "      <td>...</td>\n",
       "      <td>NaN</td>\n",
       "      <td>NaN</td>\n",
       "      <td>NaN</td>\n",
       "      <td>NaN</td>\n",
       "      <td>NaN</td>\n",
       "      <td>NaN</td>\n",
       "      <td>NaN</td>\n",
       "      <td>NaN</td>\n",
       "      <td>NaN</td>\n",
       "      <td>Jakarta</td>\n",
       "    </tr>\n",
       "    <tr>\n",
       "      <th>2</th>\n",
       "      <td>06-12-2021</td>\n",
       "      <td>19.0</td>\n",
       "      <td>35.0</td>\n",
       "      <td>2.0</td>\n",
       "      <td>1.0</td>\n",
       "      <td>NaN</td>\n",
       "      <td>NaN</td>\n",
       "      <td>Jakarta Pusat</td>\n",
       "      <td>SHM</td>\n",
       "      <td>2200.0</td>\n",
       "      <td>...</td>\n",
       "      <td>NaN</td>\n",
       "      <td>NaN</td>\n",
       "      <td>NaN</td>\n",
       "      <td>NaN</td>\n",
       "      <td>NaN</td>\n",
       "      <td>NaN</td>\n",
       "      <td>NaN</td>\n",
       "      <td>NaN</td>\n",
       "      <td>NaN</td>\n",
       "      <td>Jakarta</td>\n",
       "    </tr>\n",
       "    <tr>\n",
       "      <th>3</th>\n",
       "      <td>06-12-2021</td>\n",
       "      <td>33.0</td>\n",
       "      <td>42.0</td>\n",
       "      <td>2.0</td>\n",
       "      <td>2.0</td>\n",
       "      <td>NaN</td>\n",
       "      <td>1.0</td>\n",
       "      <td>Jakarta Pusat</td>\n",
       "      <td>SHM</td>\n",
       "      <td>2200.0</td>\n",
       "      <td>...</td>\n",
       "      <td>NaN</td>\n",
       "      <td>NaN</td>\n",
       "      <td>NaN</td>\n",
       "      <td>NaN</td>\n",
       "      <td>NaN</td>\n",
       "      <td>NaN</td>\n",
       "      <td>NaN</td>\n",
       "      <td>NaN</td>\n",
       "      <td>NaN</td>\n",
       "      <td>Jakarta</td>\n",
       "    </tr>\n",
       "    <tr>\n",
       "      <th>4</th>\n",
       "      <td>06-12-2021</td>\n",
       "      <td>30.0</td>\n",
       "      <td>55.0</td>\n",
       "      <td>2.0</td>\n",
       "      <td>2.0</td>\n",
       "      <td>NaN</td>\n",
       "      <td>1.0</td>\n",
       "      <td>Jakarta Pusat</td>\n",
       "      <td>SHM</td>\n",
       "      <td>2200.0</td>\n",
       "      <td>...</td>\n",
       "      <td>NaN</td>\n",
       "      <td>NaN</td>\n",
       "      <td>NaN</td>\n",
       "      <td>NaN</td>\n",
       "      <td>NaN</td>\n",
       "      <td>NaN</td>\n",
       "      <td>NaN</td>\n",
       "      <td>NaN</td>\n",
       "      <td>NaN</td>\n",
       "      <td>Jakarta</td>\n",
       "    </tr>\n",
       "  </tbody>\n",
       "</table>\n",
       "<p>5 rows × 27 columns</p>\n",
       "</div>"
      ],
      "text/plain": [
       "   created_at     LT     LB   KT   KM  garasi  carport         lokasi  \\\n",
       "0  06-12-2021  202.0  198.0  8.0  3.0     NaN      NaN  Jakarta Pusat   \n",
       "1  02-12-2021   30.0   55.0  2.0  1.0     NaN      1.0  Jakarta Pusat   \n",
       "2  06-12-2021   19.0   35.0  2.0  1.0     NaN      NaN  Jakarta Pusat   \n",
       "3  06-12-2021   33.0   42.0  2.0  2.0     NaN      1.0  Jakarta Pusat   \n",
       "4  06-12-2021   30.0   55.0  2.0  2.0     NaN      1.0  Jakarta Pusat   \n",
       "\n",
       "  sertifikat  listrik  ... Unnamed: 17  Unnamed: 18 Unnamed: 19 Unnamed: 20  \\\n",
       "0        SHM   2200.0  ...         NaN          NaN         NaN         NaN   \n",
       "1        SHM   2200.0  ...         NaN          NaN         NaN         NaN   \n",
       "2        SHM   2200.0  ...         NaN          NaN         NaN         NaN   \n",
       "3        SHM   2200.0  ...         NaN          NaN         NaN         NaN   \n",
       "4        SHM   2200.0  ...         NaN          NaN         NaN         NaN   \n",
       "\n",
       "   Unnamed: 21  Unnamed: 22  Unnamed: 23  Unnamed: 24  Unnamed: 25     Kota  \n",
       "0          NaN          NaN          NaN          NaN          NaN  Jakarta  \n",
       "1          NaN          NaN          NaN          NaN          NaN  Jakarta  \n",
       "2          NaN          NaN          NaN          NaN          NaN  Jakarta  \n",
       "3          NaN          NaN          NaN          NaN          NaN  Jakarta  \n",
       "4          NaN          NaN          NaN          NaN          NaN  Jakarta  \n",
       "\n",
       "[5 rows x 27 columns]"
      ]
     },
     "execution_count": 4,
     "metadata": {},
     "output_type": "execute_result"
    }
   ],
   "source": [
    "df = pd.concat([dfJ, dfD, dfB, dfT, dfX])\n",
    "df.head()"
   ]
  },
  {
   "cell_type": "code",
   "execution_count": 6,
   "id": "6ced0327",
   "metadata": {},
   "outputs": [
    {
     "data": {
      "text/plain": [
       "['created_at',\n",
       " 'LT',\n",
       " 'LB',\n",
       " 'KT',\n",
       " 'KM',\n",
       " 'garasi',\n",
       " 'carport',\n",
       " 'lokasi',\n",
       " 'sertifikat',\n",
       " 'listrik',\n",
       " 'hadap',\n",
       " 'harga',\n",
       " 'URL',\n",
       " 'deskripsi',\n",
       " 'Unnamed: 14',\n",
       " 'Unnamed: 15',\n",
       " 'Unnamed: 16',\n",
       " 'Unnamed: 17',\n",
       " 'Unnamed: 18',\n",
       " 'Unnamed: 19',\n",
       " 'Unnamed: 20',\n",
       " 'Unnamed: 21',\n",
       " 'Unnamed: 22',\n",
       " 'Unnamed: 23',\n",
       " 'Unnamed: 24',\n",
       " 'Unnamed: 25',\n",
       " 'Kota']"
      ]
     },
     "execution_count": 6,
     "metadata": {},
     "output_type": "execute_result"
    }
   ],
   "source": [
    "list(df.columns)"
   ]
  },
  {
   "cell_type": "code",
   "execution_count": 7,
   "id": "65617e58",
   "metadata": {
    "scrolled": true
   },
   "outputs": [
    {
     "data": {
      "text/plain": [
       "created_at      object\n",
       "LT             float64\n",
       "LB             float64\n",
       "KT             float64\n",
       "KM             float64\n",
       "garasi         float64\n",
       "carport        float64\n",
       "lokasi          object\n",
       "sertifikat      object\n",
       "listrik        float64\n",
       "hadap           object\n",
       "harga          float64\n",
       "URL             object\n",
       "deskripsi       object\n",
       "Unnamed: 14    float64\n",
       "Unnamed: 15    float64\n",
       "Unnamed: 16    float64\n",
       "Unnamed: 17    float64\n",
       "Unnamed: 18    float64\n",
       "Unnamed: 19    float64\n",
       "Unnamed: 20    float64\n",
       "Unnamed: 21    float64\n",
       "Unnamed: 22    float64\n",
       "Unnamed: 23    float64\n",
       "Unnamed: 24    float64\n",
       "Unnamed: 25    float64\n",
       "Kota            object\n",
       "dtype: object"
      ]
     },
     "execution_count": 7,
     "metadata": {},
     "output_type": "execute_result"
    }
   ],
   "source": [
    "df.dtypes"
   ]
  },
  {
   "cell_type": "markdown",
   "id": "e1224cf3",
   "metadata": {},
   "source": [
    "### Pengelompokkan Kolom Berdasarkan Tipe Data"
   ]
  },
  {
   "cell_type": "code",
   "execution_count": 8,
   "id": "fd24ebba",
   "metadata": {
    "scrolled": true
   },
   "outputs": [
    {
     "name": "stdout",
     "output_type": "stream",
     "text": [
      "Kolom bertipe Number (Integer/Float):\n",
      "\n",
      " [['LT', 'LB', 'KT', 'KM', 'garasi', 'carport', 'listrik', 'harga', 'Unnamed: 14', 'Unnamed: 15', 'Unnamed: 16', 'Unnamed: 17', 'Unnamed: 18', 'Unnamed: 19', 'Unnamed: 20', 'Unnamed: 21', 'Unnamed: 22', 'Unnamed: 23', 'Unnamed: 24', 'Unnamed: 25']] \n",
      "\n",
      "Kolom bertipe Integer               :\n",
      " [[]] \n",
      "\n",
      "Kolom bertipe Float                 :\n",
      " [['LT', 'LB', 'KT', 'KM', 'garasi', 'carport', 'listrik', 'harga', 'Unnamed: 14', 'Unnamed: 15', 'Unnamed: 16', 'Unnamed: 17', 'Unnamed: 18', 'Unnamed: 19', 'Unnamed: 20', 'Unnamed: 21', 'Unnamed: 22', 'Unnamed: 23', 'Unnamed: 24', 'Unnamed: 25']] \n",
      "\n",
      "Kolom bertipe Object                :\n",
      "\n",
      " [['created_at', 'lokasi', 'sertifikat', 'hadap', 'URL', 'deskripsi', 'Kota']]\n"
     ]
    }
   ],
   "source": [
    "# melihat kolom dengan tipe data yang berbeda (number dan object)\n",
    "\n",
    "df_number = []\n",
    "df_int = []\n",
    "df_float = []\n",
    "df_object = []\n",
    "\n",
    "df_number.append(df.select_dtypes('number').columns.tolist()) # menampilkan nama kolom yang berisi data dengan tipe number\n",
    "df_int.append(df.select_dtypes('integer').columns.tolist()) # menampilkan nama kolom yang berisi data dengan tipe number\n",
    "df_float.append(df.select_dtypes('float').columns.tolist()) # menampilkan nama kolom yang berisi data dengan tipe number\n",
    "df_object.append(df.select_dtypes('object').columns.tolist()) # menampilkan nama kolom yang berisi data dengan tipe object\n",
    "\n",
    "print('Kolom bertipe Number (Integer/Float):\\n\\n',df_number,'\\n')\n",
    "print('Kolom bertipe Integer               :\\n',df_int,'\\n')\n",
    "print('Kolom bertipe Float                 :\\n',df_float,'\\n')\n",
    "print('Kolom bertipe Object                :\\n\\n',df_object)"
   ]
  },
  {
   "cell_type": "code",
   "execution_count": 9,
   "id": "167a67ee",
   "metadata": {},
   "outputs": [
    {
     "name": "stdout",
     "output_type": "stream",
     "text": [
      "Index(['LT', 'LB', 'KT', 'KM', 'garasi', 'carport', 'listrik', 'harga',\n",
      "       'Unnamed: 14', 'Unnamed: 15', 'Unnamed: 16', 'Unnamed: 17',\n",
      "       'Unnamed: 18', 'Unnamed: 19', 'Unnamed: 20', 'Unnamed: 21',\n",
      "       'Unnamed: 22', 'Unnamed: 23', 'Unnamed: 24', 'Unnamed: 25'],\n",
      "      dtype='object')\n"
     ]
    }
   ],
   "source": [
    "#Feature yang data typenya float\n",
    "df_float = df.select_dtypes(include='float').columns\n",
    "print(df_float)"
   ]
  },
  {
   "cell_type": "markdown",
   "id": "f418efc1",
   "metadata": {},
   "source": [
    "### Data Preprocessing"
   ]
  },
  {
   "cell_type": "code",
   "execution_count": 10,
   "id": "23cf05a4",
   "metadata": {},
   "outputs": [
    {
     "name": "stdout",
     "output_type": "stream",
     "text": [
      "Dimensi data awal : (5120, 27)\n"
     ]
    }
   ],
   "source": [
    "# Total number of rows and columns\n",
    "print(\"Dimensi data awal :\", df.shape)\n",
    "# df.shape"
   ]
  },
  {
   "cell_type": "markdown",
   "id": "dfb704cf",
   "metadata": {},
   "source": [
    "### Statistika Deskriptif"
   ]
  },
  {
   "cell_type": "code",
   "execution_count": 11,
   "id": "5db388e1",
   "metadata": {},
   "outputs": [
    {
     "data": {
      "text/html": [
       "<div>\n",
       "<style scoped>\n",
       "    .dataframe tbody tr th:only-of-type {\n",
       "        vertical-align: middle;\n",
       "    }\n",
       "\n",
       "    .dataframe tbody tr th {\n",
       "        vertical-align: top;\n",
       "    }\n",
       "\n",
       "    .dataframe thead th {\n",
       "        text-align: right;\n",
       "    }\n",
       "</style>\n",
       "<table border=\"1\" class=\"dataframe\">\n",
       "  <thead>\n",
       "    <tr style=\"text-align: right;\">\n",
       "      <th></th>\n",
       "      <th>LT</th>\n",
       "      <th>LB</th>\n",
       "      <th>KT</th>\n",
       "      <th>KM</th>\n",
       "      <th>garasi</th>\n",
       "      <th>carport</th>\n",
       "      <th>listrik</th>\n",
       "      <th>harga</th>\n",
       "      <th>Unnamed: 14</th>\n",
       "      <th>Unnamed: 15</th>\n",
       "      <th>Unnamed: 16</th>\n",
       "      <th>Unnamed: 17</th>\n",
       "      <th>Unnamed: 18</th>\n",
       "      <th>Unnamed: 19</th>\n",
       "      <th>Unnamed: 20</th>\n",
       "      <th>Unnamed: 21</th>\n",
       "      <th>Unnamed: 22</th>\n",
       "      <th>Unnamed: 23</th>\n",
       "      <th>Unnamed: 24</th>\n",
       "      <th>Unnamed: 25</th>\n",
       "    </tr>\n",
       "  </thead>\n",
       "  <tbody>\n",
       "    <tr>\n",
       "      <th>count</th>\n",
       "      <td>605.000000</td>\n",
       "      <td>605.000000</td>\n",
       "      <td>605.000000</td>\n",
       "      <td>605.000000</td>\n",
       "      <td>220.000000</td>\n",
       "      <td>450.000000</td>\n",
       "      <td>600.000000</td>\n",
       "      <td>6.050000e+02</td>\n",
       "      <td>0.0</td>\n",
       "      <td>0.0</td>\n",
       "      <td>0.0</td>\n",
       "      <td>0.0</td>\n",
       "      <td>0.0</td>\n",
       "      <td>0.0</td>\n",
       "      <td>0.0</td>\n",
       "      <td>0.0</td>\n",
       "      <td>0.0</td>\n",
       "      <td>0.0</td>\n",
       "      <td>0.0</td>\n",
       "      <td>0.0</td>\n",
       "    </tr>\n",
       "    <tr>\n",
       "      <th>mean</th>\n",
       "      <td>247.586777</td>\n",
       "      <td>279.495868</td>\n",
       "      <td>4.272727</td>\n",
       "      <td>3.380165</td>\n",
       "      <td>1.863636</td>\n",
       "      <td>1.955556</td>\n",
       "      <td>5425.000000</td>\n",
       "      <td>8.985955e+09</td>\n",
       "      <td>NaN</td>\n",
       "      <td>NaN</td>\n",
       "      <td>NaN</td>\n",
       "      <td>NaN</td>\n",
       "      <td>NaN</td>\n",
       "      <td>NaN</td>\n",
       "      <td>NaN</td>\n",
       "      <td>NaN</td>\n",
       "      <td>NaN</td>\n",
       "      <td>NaN</td>\n",
       "      <td>NaN</td>\n",
       "      <td>NaN</td>\n",
       "    </tr>\n",
       "    <tr>\n",
       "      <th>std</th>\n",
       "      <td>367.162799</td>\n",
       "      <td>284.329440</td>\n",
       "      <td>1.895446</td>\n",
       "      <td>1.703406</td>\n",
       "      <td>1.504801</td>\n",
       "      <td>1.469141</td>\n",
       "      <td>7865.196153</td>\n",
       "      <td>1.582344e+10</td>\n",
       "      <td>NaN</td>\n",
       "      <td>NaN</td>\n",
       "      <td>NaN</td>\n",
       "      <td>NaN</td>\n",
       "      <td>NaN</td>\n",
       "      <td>NaN</td>\n",
       "      <td>NaN</td>\n",
       "      <td>NaN</td>\n",
       "      <td>NaN</td>\n",
       "      <td>NaN</td>\n",
       "      <td>NaN</td>\n",
       "      <td>NaN</td>\n",
       "    </tr>\n",
       "    <tr>\n",
       "      <th>min</th>\n",
       "      <td>16.000000</td>\n",
       "      <td>21.000000</td>\n",
       "      <td>1.000000</td>\n",
       "      <td>1.000000</td>\n",
       "      <td>1.000000</td>\n",
       "      <td>1.000000</td>\n",
       "      <td>900.000000</td>\n",
       "      <td>3.800000e+08</td>\n",
       "      <td>NaN</td>\n",
       "      <td>NaN</td>\n",
       "      <td>NaN</td>\n",
       "      <td>NaN</td>\n",
       "      <td>NaN</td>\n",
       "      <td>NaN</td>\n",
       "      <td>NaN</td>\n",
       "      <td>NaN</td>\n",
       "      <td>NaN</td>\n",
       "      <td>NaN</td>\n",
       "      <td>NaN</td>\n",
       "      <td>NaN</td>\n",
       "    </tr>\n",
       "    <tr>\n",
       "      <th>25%</th>\n",
       "      <td>84.000000</td>\n",
       "      <td>97.000000</td>\n",
       "      <td>3.000000</td>\n",
       "      <td>2.000000</td>\n",
       "      <td>1.000000</td>\n",
       "      <td>1.000000</td>\n",
       "      <td>2200.000000</td>\n",
       "      <td>1.600000e+09</td>\n",
       "      <td>NaN</td>\n",
       "      <td>NaN</td>\n",
       "      <td>NaN</td>\n",
       "      <td>NaN</td>\n",
       "      <td>NaN</td>\n",
       "      <td>NaN</td>\n",
       "      <td>NaN</td>\n",
       "      <td>NaN</td>\n",
       "      <td>NaN</td>\n",
       "      <td>NaN</td>\n",
       "      <td>NaN</td>\n",
       "      <td>NaN</td>\n",
       "    </tr>\n",
       "    <tr>\n",
       "      <th>50%</th>\n",
       "      <td>135.000000</td>\n",
       "      <td>200.000000</td>\n",
       "      <td>4.000000</td>\n",
       "      <td>3.000000</td>\n",
       "      <td>1.000000</td>\n",
       "      <td>2.000000</td>\n",
       "      <td>3500.000000</td>\n",
       "      <td>3.400000e+09</td>\n",
       "      <td>NaN</td>\n",
       "      <td>NaN</td>\n",
       "      <td>NaN</td>\n",
       "      <td>NaN</td>\n",
       "      <td>NaN</td>\n",
       "      <td>NaN</td>\n",
       "      <td>NaN</td>\n",
       "      <td>NaN</td>\n",
       "      <td>NaN</td>\n",
       "      <td>NaN</td>\n",
       "      <td>NaN</td>\n",
       "      <td>NaN</td>\n",
       "    </tr>\n",
       "    <tr>\n",
       "      <th>75%</th>\n",
       "      <td>250.000000</td>\n",
       "      <td>350.000000</td>\n",
       "      <td>5.000000</td>\n",
       "      <td>4.000000</td>\n",
       "      <td>2.000000</td>\n",
       "      <td>2.000000</td>\n",
       "      <td>4425.000000</td>\n",
       "      <td>7.250000e+09</td>\n",
       "      <td>NaN</td>\n",
       "      <td>NaN</td>\n",
       "      <td>NaN</td>\n",
       "      <td>NaN</td>\n",
       "      <td>NaN</td>\n",
       "      <td>NaN</td>\n",
       "      <td>NaN</td>\n",
       "      <td>NaN</td>\n",
       "      <td>NaN</td>\n",
       "      <td>NaN</td>\n",
       "      <td>NaN</td>\n",
       "      <td>NaN</td>\n",
       "    </tr>\n",
       "    <tr>\n",
       "      <th>max</th>\n",
       "      <td>3422.000000</td>\n",
       "      <td>2000.000000</td>\n",
       "      <td>10.000000</td>\n",
       "      <td>10.000000</td>\n",
       "      <td>8.000000</td>\n",
       "      <td>10.000000</td>\n",
       "      <td>66000.000000</td>\n",
       "      <td>1.050000e+11</td>\n",
       "      <td>NaN</td>\n",
       "      <td>NaN</td>\n",
       "      <td>NaN</td>\n",
       "      <td>NaN</td>\n",
       "      <td>NaN</td>\n",
       "      <td>NaN</td>\n",
       "      <td>NaN</td>\n",
       "      <td>NaN</td>\n",
       "      <td>NaN</td>\n",
       "      <td>NaN</td>\n",
       "      <td>NaN</td>\n",
       "      <td>NaN</td>\n",
       "    </tr>\n",
       "  </tbody>\n",
       "</table>\n",
       "</div>"
      ],
      "text/plain": [
       "                LT           LB          KT          KM      garasi  \\\n",
       "count   605.000000   605.000000  605.000000  605.000000  220.000000   \n",
       "mean    247.586777   279.495868    4.272727    3.380165    1.863636   \n",
       "std     367.162799   284.329440    1.895446    1.703406    1.504801   \n",
       "min      16.000000    21.000000    1.000000    1.000000    1.000000   \n",
       "25%      84.000000    97.000000    3.000000    2.000000    1.000000   \n",
       "50%     135.000000   200.000000    4.000000    3.000000    1.000000   \n",
       "75%     250.000000   350.000000    5.000000    4.000000    2.000000   \n",
       "max    3422.000000  2000.000000   10.000000   10.000000    8.000000   \n",
       "\n",
       "          carport       listrik         harga  Unnamed: 14  Unnamed: 15  \\\n",
       "count  450.000000    600.000000  6.050000e+02          0.0          0.0   \n",
       "mean     1.955556   5425.000000  8.985955e+09          NaN          NaN   \n",
       "std      1.469141   7865.196153  1.582344e+10          NaN          NaN   \n",
       "min      1.000000    900.000000  3.800000e+08          NaN          NaN   \n",
       "25%      1.000000   2200.000000  1.600000e+09          NaN          NaN   \n",
       "50%      2.000000   3500.000000  3.400000e+09          NaN          NaN   \n",
       "75%      2.000000   4425.000000  7.250000e+09          NaN          NaN   \n",
       "max     10.000000  66000.000000  1.050000e+11          NaN          NaN   \n",
       "\n",
       "       Unnamed: 16  Unnamed: 17  Unnamed: 18  Unnamed: 19  Unnamed: 20  \\\n",
       "count          0.0          0.0          0.0          0.0          0.0   \n",
       "mean           NaN          NaN          NaN          NaN          NaN   \n",
       "std            NaN          NaN          NaN          NaN          NaN   \n",
       "min            NaN          NaN          NaN          NaN          NaN   \n",
       "25%            NaN          NaN          NaN          NaN          NaN   \n",
       "50%            NaN          NaN          NaN          NaN          NaN   \n",
       "75%            NaN          NaN          NaN          NaN          NaN   \n",
       "max            NaN          NaN          NaN          NaN          NaN   \n",
       "\n",
       "       Unnamed: 21  Unnamed: 22  Unnamed: 23  Unnamed: 24  Unnamed: 25  \n",
       "count          0.0          0.0          0.0          0.0          0.0  \n",
       "mean           NaN          NaN          NaN          NaN          NaN  \n",
       "std            NaN          NaN          NaN          NaN          NaN  \n",
       "min            NaN          NaN          NaN          NaN          NaN  \n",
       "25%            NaN          NaN          NaN          NaN          NaN  \n",
       "50%            NaN          NaN          NaN          NaN          NaN  \n",
       "75%            NaN          NaN          NaN          NaN          NaN  \n",
       "max            NaN          NaN          NaN          NaN          NaN  "
      ]
     },
     "execution_count": 11,
     "metadata": {},
     "output_type": "execute_result"
    }
   ],
   "source": [
    "### Summary Statistics ###\n",
    "df.describe()"
   ]
  },
  {
   "cell_type": "markdown",
   "id": "2efcad7e",
   "metadata": {},
   "source": [
    "### Handling Missing Value"
   ]
  },
  {
   "cell_type": "markdown",
   "id": "2f114d0b",
   "metadata": {},
   "source": [
    "It is used to remove outliers and duplicates from the dataset. Moreover, it is a very common practice to scale the columns on a standard scale, it helps in faster convergence and gives better results."
   ]
  },
  {
   "cell_type": "code",
   "execution_count": 12,
   "id": "27c25399",
   "metadata": {},
   "outputs": [
    {
     "data": {
      "text/plain": [
       "4510"
      ]
     },
     "execution_count": 12,
     "metadata": {},
     "output_type": "execute_result"
    }
   ],
   "source": [
    "sum(df.duplicated())"
   ]
  },
  {
   "cell_type": "code",
   "execution_count": 13,
   "id": "e0739637",
   "metadata": {},
   "outputs": [
    {
     "name": "stdout",
     "output_type": "stream",
     "text": [
      "0\n",
      "(610, 27)\n"
     ]
    }
   ],
   "source": [
    "#Remove Duplicate\n",
    "df.drop_duplicates(inplace=True)\n",
    "print(df.duplicated().sum()) # no more duplicates\n",
    "print(df.shape) # re-check by printing data size"
   ]
  },
  {
   "cell_type": "markdown",
   "id": "9f35895a",
   "metadata": {},
   "source": [
    "### Memilih data object"
   ]
  },
  {
   "cell_type": "code",
   "execution_count": 14,
   "id": "76fbefdc",
   "metadata": {},
   "outputs": [
    {
     "name": "stdout",
     "output_type": "stream",
     "text": [
      "Index(['created_at', 'lokasi', 'sertifikat', 'hadap', 'URL', 'deskripsi',\n",
      "       'Kota'],\n",
      "      dtype='object')\n"
     ]
    }
   ],
   "source": [
    "#Feature yang data typenya object\n",
    "df_object = df.select_dtypes(include='object').columns\n",
    "print(df_object)"
   ]
  },
  {
   "cell_type": "code",
   "execution_count": 15,
   "id": "28cc1550",
   "metadata": {
    "scrolled": false
   },
   "outputs": [
    {
     "data": {
      "text/plain": [
       "created_at     19\n",
       "lokasi          5\n",
       "sertifikat      7\n",
       "hadap          10\n",
       "URL           120\n",
       "deskripsi     112\n",
       "Kota            5\n",
       "dtype: int64"
      ]
     },
     "execution_count": 15,
     "metadata": {},
     "output_type": "execute_result"
    }
   ],
   "source": [
    "obj = list(df_object)\n",
    "df[obj].nunique()"
   ]
  },
  {
   "cell_type": "markdown",
   "id": "8338e6c4",
   "metadata": {},
   "source": [
    "### Drop Variabel Kategorik yang Tidak Berguna"
   ]
  },
  {
   "cell_type": "code",
   "execution_count": 16,
   "id": "09cdf2d5",
   "metadata": {
    "scrolled": true
   },
   "outputs": [
    {
     "data": {
      "text/plain": [
       "Timur              50\n",
       "Utara              50\n",
       "Selatan            25\n",
       "Barat              20\n",
       "timur              10\n",
       "timur utara         5\n",
       "Selatan & Barat     5\n",
       "Timur Laut          5\n",
       "Barat & Selatan     5\n",
       "selatan             5\n",
       "Name: hadap, dtype: int64"
      ]
     },
     "execution_count": 16,
     "metadata": {},
     "output_type": "execute_result"
    }
   ],
   "source": [
    "df.hadap.value_counts()"
   ]
  },
  {
   "cell_type": "markdown",
   "id": "a898ef0d",
   "metadata": {},
   "source": [
    "### Handling variabel \"hadap\""
   ]
  },
  {
   "cell_type": "code",
   "execution_count": 17,
   "id": "4ab63993",
   "metadata": {},
   "outputs": [],
   "source": [
    "df.hadap = df.hadap.str.lower()"
   ]
  },
  {
   "cell_type": "code",
   "execution_count": 18,
   "id": "1dd0a1f1",
   "metadata": {},
   "outputs": [],
   "source": [
    "df.replace({\n",
    "\"hadap\" : [\"selatan & barat\",\"barat & selatan\"]\n",
    "}, {\"hadap\" : \"selatan & barat\"}, inplace = True)"
   ]
  },
  {
   "cell_type": "code",
   "execution_count": 19,
   "id": "db3c8695",
   "metadata": {
    "scrolled": true
   },
   "outputs": [
    {
     "data": {
      "text/plain": [
       "timur              60\n",
       "utara              50\n",
       "selatan            30\n",
       "barat              20\n",
       "selatan & barat    10\n",
       "timur utara         5\n",
       "timur laut          5\n",
       "Name: hadap, dtype: int64"
      ]
     },
     "execution_count": 19,
     "metadata": {},
     "output_type": "execute_result"
    }
   ],
   "source": [
    "df.hadap.value_counts()"
   ]
  },
  {
   "cell_type": "code",
   "execution_count": 20,
   "id": "72692fb5",
   "metadata": {},
   "outputs": [
    {
     "data": {
      "text/plain": [
       "https://www.rumah.com/listing-properti/dijual-rumah-bangunan-baru-di-kalideres-permai-cengkareng-jakarta-barat-oleh-fransisca-ferra-jong-19021419    10\n",
       "https://www.rumah.com/listing-properti/dijual-rumah-murah-cempaka-putih-jakarta-pusat-oleh-irwan-18848789                                             5\n",
       "https://www.rumah.com/listing-properti/dijual-sunter-jakarta-utara-oleh-iin-maria-19274386                                                            5\n",
       "https://www.rumah.com/listing-properti/dijual-koja-jakarta-utara-oleh-hera-18409487                                                                   5\n",
       "https://www.rumah.com/listing-properti/dijual-koja-jakarta-utara-oleh-hera-18424942                                                                   5\n",
       "                                                                                                                                                     ..\n",
       "https://rumahdijual.com/tebet/8555409-dijual-rumah-tebet-timur-brand-new-tahap-finishing-lokasi.html                                                  5\n",
       "https://rumahdijual.com/tebet/10851049-rmh-mewah-2-lt-siap-huni-semi-furnish-bbs.html                                                                 5\n",
       "https://rumahdijual.com/kemang/9292101-townhouse-amaryliss-kemang.html                                                                                5\n",
       "https://rumahdijual.com/tebet/11750398-rumah-3-lantai-hadap-timur-siap-dihuni-besar-dan.html                                                          5\n",
       "https://www.rumah.com/listing-properti/dijual-rumah-mewah-jatiwaringin-oleh-cardi-s-sos-18043010                                                      5\n",
       "Name: URL, Length: 120, dtype: int64"
      ]
     },
     "execution_count": 20,
     "metadata": {},
     "output_type": "execute_result"
    }
   ],
   "source": [
    "df.URL.value_counts()"
   ]
  },
  {
   "cell_type": "markdown",
   "id": "8199a002",
   "metadata": {},
   "source": [
    "karena data berbentuk URL maka dianggap data tidak berguna sehingga data URL akan dihapus"
   ]
  },
  {
   "cell_type": "code",
   "execution_count": 21,
   "id": "9f77a2d4",
   "metadata": {},
   "outputs": [
    {
     "data": {
      "text/plain": [
       "Dekat Cikini Salemba Taman Isamail Marzuki Kampus Universitas Indonesia UI YAI RSCM dan RS. PGI Cikini                                                                                                                                                                                                                                                                         5\n",
       "Mengusung konsep minimalis, dan didukung dengan lingkungan yang tenang dan lokasi yang sangat strategis area Jakarta Pusat                                                                                                                                                                                                                                                     5\n",
       "Dijual Cepat Rumah Koja Di Jakarta Utara Dng Luas 15 X 25 M2                                                                                                                                                                                                                                                                                                                   5\n",
       "Rumah Bagus Strategis di Sunter DKI Jakarta Utara, dengan pendingin ruangan, balkon, pemadangan hijau/taman, dan lantai atas                                                                                                                                                                                                                                                   5\n",
       "Rumah Bagus Strategis Komplek Perumahan Sunter, Jakarta Utara                                                                                                                                                                                                                                                                                                                  5\n",
       "                                                                                                                                                                                                                                                                                                                                                                              ..\n",
       "- Baru, pembangunan sudah 80%\\n- Beranda dan pagar penuh\\n- Lantai Granite\\n- Air Jetpump                                                                                                                                                                                                                                                                                      5\n",
       "- Ruang Musik\\n- Kitchen set ( dapur kotor dan bersih)\\n- Lokasi dekat dengan mushola dan masjid Al-Itihad\\n- Bebas banjir dan penjagaan satpam 24 jam                                                                                                                                                                                                                         5\n",
       "- Bangunan 4 lantai\\n- Semi furnished unit 8AC, 3 Wardrobe, 2 Kitchen\\n- 2 kolam renang, gym/fitness, playground, basketball court, rooftop                                                                                                                                                                                                                                    5\n",
       "- Bebas banjir\\n- Lokasi strategis\\n- One gate sistem\\n- Lingkungan tenang, nyaman, dan aman dengan kemanaan 24 jam\\n- Akses ke MT Haryono, cawang, pancoran, tebet, casablanca, kuningan\\n- Lokasi Strategis dekat ke pusat kkota, rumah sakit, bank, sekolah, swalayan, pasar                                                                                                5\n",
       "Rumah Modern Minimalis dengan 2 lantai di Jatiwaringin, Sumber Air : Jetpump, Sanitair : TOTO & Grohe, Dinding Bata Merah, high ceiling, service area, Pencahayaan rumah menggunakan jasa \\nTerletak dikawasan perumahan elite komplek AURI Jatiwaringin\\nKeluar komplek langsung gerbang tol Jakarta-Cikampek dan Becakayu.\\nDekat dengan Stasiun LRT.Lighting Consultant.    5\n",
       "Name: deskripsi, Length: 112, dtype: int64"
      ]
     },
     "execution_count": 21,
     "metadata": {},
     "output_type": "execute_result"
    }
   ],
   "source": [
    "df.deskripsi.value_counts()"
   ]
  },
  {
   "cell_type": "markdown",
   "id": "2619854a",
   "metadata": {},
   "source": [
    "karena data berbentuk deskripsi maka dianggap data tidak berguna sehingga data deskripsi akan dihapus"
   ]
  },
  {
   "cell_type": "code",
   "execution_count": 22,
   "id": "2e7a30e9",
   "metadata": {},
   "outputs": [],
   "source": [
    "del df['URL']\n",
    "del df['deskripsi']"
   ]
  },
  {
   "cell_type": "code",
   "execution_count": 23,
   "id": "acee663e",
   "metadata": {},
   "outputs": [
    {
     "name": "stdout",
     "output_type": "stream",
     "text": [
      "Index(['created_at', 'lokasi', 'sertifikat', 'hadap', 'Kota'], dtype='object')\n"
     ]
    }
   ],
   "source": [
    "#Setelah menghapus beberapa variabel kategorik\n",
    "df_object = df.select_dtypes(include='object').columns\n",
    "print(df_object)"
   ]
  },
  {
   "cell_type": "markdown",
   "id": "4c129cd2",
   "metadata": {},
   "source": [
    "### Memilih data numerik"
   ]
  },
  {
   "cell_type": "code",
   "execution_count": 24,
   "id": "14d76a73",
   "metadata": {},
   "outputs": [
    {
     "name": "stdout",
     "output_type": "stream",
     "text": [
      "Index(['LT', 'LB', 'KT', 'KM', 'garasi', 'carport', 'listrik', 'harga',\n",
      "       'Unnamed: 14', 'Unnamed: 15', 'Unnamed: 16', 'Unnamed: 17',\n",
      "       'Unnamed: 18', 'Unnamed: 19', 'Unnamed: 20', 'Unnamed: 21',\n",
      "       'Unnamed: 22', 'Unnamed: 23', 'Unnamed: 24', 'Unnamed: 25'],\n",
      "      dtype='object')\n"
     ]
    }
   ],
   "source": [
    "#Setelah menghapus beberapa fitur numerik\n",
    "df_float = df.select_dtypes(include='float').columns\n",
    "print(df_float)"
   ]
  },
  {
   "cell_type": "markdown",
   "id": "c675874c",
   "metadata": {},
   "source": [
    "### Drop Variabel Numerik yang Tidak Berguna"
   ]
  },
  {
   "cell_type": "code",
   "execution_count": 25,
   "id": "bdec1726",
   "metadata": {},
   "outputs": [],
   "source": [
    "del df['Unnamed: 14']\n",
    "del df['Unnamed: 15']\n",
    "del df['Unnamed: 16']\n",
    "del df['Unnamed: 17']\n",
    "del df['Unnamed: 18']\n",
    "del df['Unnamed: 19']\n",
    "del df['Unnamed: 20']\n",
    "del df['Unnamed: 21']\n",
    "del df['Unnamed: 22']\n",
    "del df['Unnamed: 23']\n",
    "del df['Unnamed: 24']\n",
    "del df['Unnamed: 25']"
   ]
  },
  {
   "cell_type": "code",
   "execution_count": 26,
   "id": "e4dd917c",
   "metadata": {},
   "outputs": [
    {
     "name": "stdout",
     "output_type": "stream",
     "text": [
      "Index(['LT', 'LB', 'KT', 'KM', 'garasi', 'carport', 'listrik', 'harga'], dtype='object')\n"
     ]
    }
   ],
   "source": [
    "#Setelah menghapus beberapa numerik\n",
    "df_float = df.select_dtypes(include='float').columns\n",
    "print(df_float)"
   ]
  },
  {
   "cell_type": "code",
   "execution_count": 27,
   "id": "3418b51a",
   "metadata": {},
   "outputs": [
    {
     "name": "stdout",
     "output_type": "stream",
     "text": [
      "Data Missing Value:\n",
      "\n",
      "         Kolom  Jumlah Missing Value  Persentase Missing Value\n",
      "10       hadap                   430                 70.491803\n",
      "0   created_at                     5                  0.819672\n",
      "12        Kota                     0                  0.000000\n",
      "9      listrik                    10                  1.639344\n",
      "2           LB                     5                  0.819672 \n",
      "\n",
      "Persentase Missing Value Terbesar                  :  70.49180327868852\n",
      "Persentase Missing Value Keseluruhan               :  170.49180327868854\n",
      "Data Duplikat:\n",
      "\n",
      "Jumlah terdapat data duplikat pada data df         :  0 ( 0.0 % )\n"
     ]
    }
   ],
   "source": [
    "# Informasi Jumlah dan Persentase Missing Value\n",
    "\n",
    "## general\n",
    "\n",
    "df_mv = df.isnull().sum()                      # menampilkan jumlah total missing value per kolom\n",
    "df_pmv = (df.isnull().sum()/len(df))*100     # menampilkan persentase missing value per kolom\n",
    "\n",
    "df_missing = pd.concat([df_mv,df_pmv],axis = 1).reset_index() # menampilkan data dalam bentuk data frame\n",
    "\n",
    "df_missing.columns = ['Kolom','Jumlah Missing Value','Persentase Missing Value']\n",
    "missing_value = df_missing\n",
    "\n",
    "print('Data Missing Value:\\n')\n",
    "print(missing_value.sample(5),'\\n')\n",
    "print('Persentase Missing Value Terbesar                  : ',missing_value['Persentase Missing Value'].max())\n",
    "print('Persentase Missing Value Keseluruhan               : ',missing_value['Persentase Missing Value'].sum())\n",
    "\n",
    "\n",
    "print('Data Duplikat:\\n')\n",
    "print('Jumlah terdapat data duplikat pada data df         : ',df.duplicated().sum(), '(',(df.duplicated().sum()/len(df))*100,'%',')')"
   ]
  },
  {
   "cell_type": "code",
   "execution_count": 28,
   "id": "96de969a",
   "metadata": {},
   "outputs": [
    {
     "name": "stdout",
     "output_type": "stream",
     "text": [
      "Jumlah Data Missing Value:\n",
      "\n",
      "created_at      5\n",
      "LT              5\n",
      "LB              5\n",
      "KT              5\n",
      "KM              5\n",
      "garasi        390\n",
      "carport       160\n",
      "lokasi          5\n",
      "sertifikat     15\n",
      "listrik        10\n",
      "hadap         430\n",
      "harga           5\n",
      "Kota            0\n",
      "dtype: int64\n"
     ]
    }
   ],
   "source": [
    "print('Jumlah Data Missing Value:\\n')\n",
    "print(df.isnull().sum())"
   ]
  },
  {
   "cell_type": "code",
   "execution_count": 29,
   "id": "38c6edad",
   "metadata": {},
   "outputs": [],
   "source": [
    "df.dropna(subset=[\"created_at\"], axis=0, inplace=True)\n",
    "df.dropna(subset=[\"LT\"], axis=0, inplace=True)\n",
    "df.dropna(subset=[\"LB\"], axis=0, inplace=True)\n",
    "df.dropna(subset=[\"KM\"], axis=0, inplace=True)\n",
    "df.dropna(subset=[\"lokasi\"], axis=0, inplace=True)\n",
    "df.dropna(subset=[\"sertifikat\"], axis=0, inplace=True)\n",
    "df.dropna(subset=[\"listrik\"], axis=0, inplace=True)\n",
    "df.dropna(subset=[\"harga\"], axis=0, inplace=True)\n",
    "df.reset_index(drop=True, inplace=True)"
   ]
  },
  {
   "cell_type": "code",
   "execution_count": 30,
   "id": "113772de",
   "metadata": {},
   "outputs": [
    {
     "name": "stdout",
     "output_type": "stream",
     "text": [
      "Jumlah Data Missing Value:\n",
      "\n",
      "created_at      0\n",
      "LT              0\n",
      "LB              0\n",
      "KT              0\n",
      "KM              0\n",
      "garasi        380\n",
      "carport       145\n",
      "lokasi          0\n",
      "sertifikat      0\n",
      "listrik         0\n",
      "hadap         410\n",
      "harga           0\n",
      "Kota            0\n",
      "dtype: int64\n"
     ]
    }
   ],
   "source": [
    "print('Jumlah Data Missing Value:\\n')\n",
    "print(df.isnull().sum())"
   ]
  },
  {
   "cell_type": "markdown",
   "id": "ba2de187",
   "metadata": {},
   "source": [
    "Handling Missing Value untuk Variabel \"hadap\", \"garasi\", dan \"carport dengan melakukan imputasi backwise, forward, dan mean"
   ]
  },
  {
   "cell_type": "code",
   "execution_count": 31,
   "id": "cfb484bd",
   "metadata": {},
   "outputs": [],
   "source": [
    "df.fillna(method = \"ffill\", limit = 2, inplace=True)"
   ]
  },
  {
   "cell_type": "code",
   "execution_count": 32,
   "id": "2884498c",
   "metadata": {},
   "outputs": [],
   "source": [
    "df.fillna(method = \"bfill\", limit = 2, inplace=True)"
   ]
  },
  {
   "cell_type": "code",
   "execution_count": 33,
   "id": "5bdb5f49",
   "metadata": {},
   "outputs": [],
   "source": [
    "df.fillna({\"hadap\": dfJ.hadap.mode(),\n",
    "             \"garasi\": dfJ.garasi.mean(),\n",
    "             \"carport\": dfJ.carport.mean()\n",
    "            }, inplace=True)"
   ]
  },
  {
   "cell_type": "markdown",
   "id": "eca12ee0",
   "metadata": {},
   "source": [
    "## Hasil data setelah di cleansing"
   ]
  },
  {
   "cell_type": "code",
   "execution_count": 34,
   "id": "695a7abf",
   "metadata": {},
   "outputs": [
    {
     "data": {
      "text/html": [
       "<div>\n",
       "<style scoped>\n",
       "    .dataframe tbody tr th:only-of-type {\n",
       "        vertical-align: middle;\n",
       "    }\n",
       "\n",
       "    .dataframe tbody tr th {\n",
       "        vertical-align: top;\n",
       "    }\n",
       "\n",
       "    .dataframe thead th {\n",
       "        text-align: right;\n",
       "    }\n",
       "</style>\n",
       "<table border=\"1\" class=\"dataframe\">\n",
       "  <thead>\n",
       "    <tr style=\"text-align: right;\">\n",
       "      <th></th>\n",
       "      <th>created_at</th>\n",
       "      <th>LT</th>\n",
       "      <th>LB</th>\n",
       "      <th>KT</th>\n",
       "      <th>KM</th>\n",
       "      <th>garasi</th>\n",
       "      <th>carport</th>\n",
       "      <th>lokasi</th>\n",
       "      <th>sertifikat</th>\n",
       "      <th>listrik</th>\n",
       "      <th>hadap</th>\n",
       "      <th>harga</th>\n",
       "      <th>Kota</th>\n",
       "    </tr>\n",
       "  </thead>\n",
       "  <tbody>\n",
       "    <tr>\n",
       "      <th>0</th>\n",
       "      <td>06-12-2021</td>\n",
       "      <td>202.0</td>\n",
       "      <td>198.0</td>\n",
       "      <td>8.0</td>\n",
       "      <td>3.0</td>\n",
       "      <td>1.863636</td>\n",
       "      <td>1.0</td>\n",
       "      <td>Jakarta Pusat</td>\n",
       "      <td>SHM</td>\n",
       "      <td>2200.0</td>\n",
       "      <td>Timur</td>\n",
       "      <td>4.500000e+09</td>\n",
       "      <td>Jakarta</td>\n",
       "    </tr>\n",
       "    <tr>\n",
       "      <th>1</th>\n",
       "      <td>02-12-2021</td>\n",
       "      <td>30.0</td>\n",
       "      <td>55.0</td>\n",
       "      <td>2.0</td>\n",
       "      <td>1.0</td>\n",
       "      <td>1.863636</td>\n",
       "      <td>1.0</td>\n",
       "      <td>Jakarta Pusat</td>\n",
       "      <td>SHM</td>\n",
       "      <td>2200.0</td>\n",
       "      <td>Utara</td>\n",
       "      <td>1.100000e+09</td>\n",
       "      <td>Jakarta</td>\n",
       "    </tr>\n",
       "    <tr>\n",
       "      <th>2</th>\n",
       "      <td>06-12-2021</td>\n",
       "      <td>19.0</td>\n",
       "      <td>35.0</td>\n",
       "      <td>2.0</td>\n",
       "      <td>1.0</td>\n",
       "      <td>1.863636</td>\n",
       "      <td>1.0</td>\n",
       "      <td>Jakarta Pusat</td>\n",
       "      <td>SHM</td>\n",
       "      <td>2200.0</td>\n",
       "      <td>NaN</td>\n",
       "      <td>3.950000e+08</td>\n",
       "      <td>Jakarta</td>\n",
       "    </tr>\n",
       "    <tr>\n",
       "      <th>3</th>\n",
       "      <td>06-12-2021</td>\n",
       "      <td>33.0</td>\n",
       "      <td>42.0</td>\n",
       "      <td>2.0</td>\n",
       "      <td>2.0</td>\n",
       "      <td>1.863636</td>\n",
       "      <td>1.0</td>\n",
       "      <td>Jakarta Pusat</td>\n",
       "      <td>SHM</td>\n",
       "      <td>2200.0</td>\n",
       "      <td>NaN</td>\n",
       "      <td>8.350000e+08</td>\n",
       "      <td>Jakarta</td>\n",
       "    </tr>\n",
       "    <tr>\n",
       "      <th>4</th>\n",
       "      <td>06-12-2021</td>\n",
       "      <td>30.0</td>\n",
       "      <td>55.0</td>\n",
       "      <td>2.0</td>\n",
       "      <td>2.0</td>\n",
       "      <td>1.000000</td>\n",
       "      <td>1.0</td>\n",
       "      <td>Jakarta Pusat</td>\n",
       "      <td>SHM</td>\n",
       "      <td>2200.0</td>\n",
       "      <td>timur</td>\n",
       "      <td>1.100000e+09</td>\n",
       "      <td>Jakarta</td>\n",
       "    </tr>\n",
       "  </tbody>\n",
       "</table>\n",
       "</div>"
      ],
      "text/plain": [
       "   created_at     LT     LB   KT   KM    garasi  carport         lokasi  \\\n",
       "0  06-12-2021  202.0  198.0  8.0  3.0  1.863636      1.0  Jakarta Pusat   \n",
       "1  02-12-2021   30.0   55.0  2.0  1.0  1.863636      1.0  Jakarta Pusat   \n",
       "2  06-12-2021   19.0   35.0  2.0  1.0  1.863636      1.0  Jakarta Pusat   \n",
       "3  06-12-2021   33.0   42.0  2.0  2.0  1.863636      1.0  Jakarta Pusat   \n",
       "4  06-12-2021   30.0   55.0  2.0  2.0  1.000000      1.0  Jakarta Pusat   \n",
       "\n",
       "  sertifikat  listrik  hadap         harga     Kota  \n",
       "0        SHM   2200.0  Timur  4.500000e+09  Jakarta  \n",
       "1        SHM   2200.0  Utara  1.100000e+09  Jakarta  \n",
       "2        SHM   2200.0    NaN  3.950000e+08  Jakarta  \n",
       "3        SHM   2200.0    NaN  8.350000e+08  Jakarta  \n",
       "4        SHM   2200.0  timur  1.100000e+09  Jakarta  "
      ]
     },
     "execution_count": 34,
     "metadata": {},
     "output_type": "execute_result"
    }
   ],
   "source": [
    "df.head()"
   ]
  },
  {
   "cell_type": "markdown",
   "id": "f3fc2dd7",
   "metadata": {},
   "source": [
    "### Export Hasil Data Cleansing to csv file"
   ]
  },
  {
   "cell_type": "code",
   "execution_count": 35,
   "id": "cf58b024",
   "metadata": {},
   "outputs": [],
   "source": [
    "df.to_csv(\"C://Users/USER/SEMESTER 7/Data Mining/Study Case 01 - EDA Pada Data Property/Hasil Data Cleansing.csv\")"
   ]
  },
  {
   "cell_type": "markdown",
   "id": "13f0f65a",
   "metadata": {},
   "source": [
    "### Interpretasi"
   ]
  },
  {
   "cell_type": "markdown",
   "id": "a3dd9a92",
   "metadata": {},
   "source": [
    "1.\n",
    "\n",
    "Kualitas Data\n",
    "Terdapat banyak attribut/variabel yang tidak memiliki nilai, sehingga ukuran data menjadi lebih besar dengan isi yang tidak bermanfaat. Selain itu, attribut deskripsi dan url tidak diperlukan, karena tidak relevan dengan data"
   ]
  },
  {
   "cell_type": "markdown",
   "id": "93712b6b",
   "metadata": {},
   "source": [
    "2.\n",
    "\n",
    "Saran perbaikan data:\n",
    "Karena masih terdapat missing value, duplicate, noise berupa kesalahan entry nama pada variabel Garasi, Carport, dan Hadap. Maka langkah yang perlu dilakukan adalah untuk missing value yang tergolong sedikit 1 sampai 3 akan dihilangkan pada data. Untuk missing value yang tergolong banyak, akan dilakukan imputasi. Untuk variabel string hadap akan diimputasi menggunakan modus. Untuk variabel garasi dan carport, proses imputasi missing value dilakukan dengan menggunakan mean dengan metode backward dan forward. \\\\\n",
    "\n",
    "Selain itu, untuk proses komputasi yang lebih mudah dan efisien maka dataframe dari berbagai kota tersebut akan dijadikan satu dataframe bernama df dengan menggunakan funtion concat. Selanjutnya, untuk membandingkan asal dari dataframe sebelumnya akan dibentuk kolom baru bernama “Kota” berisi entri “Jakarta, Depok, Bogor, Tangerang, dan Bekasi” sesuai asal dataframe sebelumnya."
   ]
  },
  {
   "cell_type": "markdown",
   "id": "1eeadd94",
   "metadata": {},
   "source": [
    "# Terima kasih"
   ]
  }
 ],
 "metadata": {
  "kernelspec": {
   "display_name": "Python 3 (ipykernel)",
   "language": "python",
   "name": "python3"
  },
  "language_info": {
   "codemirror_mode": {
    "name": "ipython",
    "version": 3
   },
   "file_extension": ".py",
   "mimetype": "text/x-python",
   "name": "python",
   "nbconvert_exporter": "python",
   "pygments_lexer": "ipython3",
   "version": "3.9.12"
  }
 },
 "nbformat": 4,
 "nbformat_minor": 5
}
